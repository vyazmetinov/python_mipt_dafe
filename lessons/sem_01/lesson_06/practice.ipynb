{
 "cells": [
  {
   "cell_type": "markdown",
   "metadata": {},
   "source": [
    "# Исключения\n",
    "\n",
    "Решения необходимо отправить через систему [Яндекс.Контест](https://contest.yandex.ru/contest/69679/enter/?retPage=).\n",
    "\n",
    "## Задача 1. Совместимость с API\n",
    "\n",
    "На прошлом занятии мы с вами изучили интерфейсы. Помимо сигнатур методов частью интерфейса также являются исключения, которые возбуждаются данными методами. На уровне реализации методы того или иного объекта, разделяющего наш интерфейс, могут использовать сторонние библиотеки. Сторонний код может приводить к появлению исключений, несовместимых с исключениями нашего интерфейса, поэтому их необходимо обрабатывать и преобразовывать в пределах нашего метода, чтобы сохранять соответствие интерфейсу.\n",
    "\n",
    "Проблему с обработкой можно решить двумя способами: написать обработчики в самом методе или написать декоратор общего назначения для обработки исключений. Первый путь является более гибким с точки зрения обработки исключений, т.к. мы можем определять четкую последовательность действий в обработчики каждого исключения. Однако с точки зрения поддержки этот путь является менее гибким и может привести к большому количеству однообразного кода. Собственно, эти недостатки позволяет решить второй способ.\n",
    "\n",
    "Итак, ваша задача - реализовать параметризованный декоратор для преобразования исключений. В качестве параметра декоратора выступает словарь, определяющий правило преобразования исключений. Если возбужденного исключения не окажется в переданном словаре, необходимо перевозбудить это исключение без изменений.\n",
    "\n",
    "**Вход**:\n",
    "- На вход параметризованному декоратору передается словарь вида `{Exception: Exception}`. Ключам соответствуют типы исключений, которые мы хотим преобразовывать, значениям - типы исключений, к которым мы хотим преобразовывать. Т.е. если нам был передан словарь `{ValueError: MyException}`, то в случае возникновения `ValueError` в продекорированной функции в процессе выполнения, мы должны будем возбудить `MyException`. При этом трейсбек исходного исключения должен быть удален. Если же в продикорированной функции возникнет исключение, которого нет в словаре, например, `KeyError`, мы должны будем возбудить его без изменений.\n",
    "\n",
    "**Выход**:\n",
    "- Продикорированная функция, обладающая API-совместимыми исключениями.\n",
    "\n",
    "**Замечание**:  \n",
    "Предполагаем, что декорируемые функции могу возбуждать исключительно `Exception` и ее подклассы.\n",
    "\n",
    "**Решение**:"
   ]
  },
  {
   "cell_type": "code",
   "execution_count": 1,
   "metadata": {},
   "outputs": [],
   "source": [
    "from functools import wraps\n",
    "from typing import Callable, TypeVar"
   ]
  },
  {
   "cell_type": "code",
   "execution_count": 2,
   "metadata": {},
   "outputs": [],
   "source": [
    "T = TypeVar(\"T\")\n",
    "\n",
    "def api_computable_exceptions(\n",
    "    exception_mapping: dict[type[Exception], type[Exception]]\n",
    ") -> Callable[[T], T]:\n",
    "    # ваш код\n",
    "    pass"
   ]
  },
  {
   "cell_type": "markdown",
   "metadata": {},
   "source": [
    "**Проверка**:"
   ]
  },
  {
   "cell_type": "code",
   "execution_count": 3,
   "metadata": {},
   "outputs": [],
   "source": [
    "class UnsupportedValueError(Exception):\n",
    "    pass\n",
    "\n",
    "\n",
    "class NonExistedKeyError(Exception):\n",
    "    pass"
   ]
  },
  {
   "cell_type": "code",
   "execution_count": null,
   "metadata": {},
   "outputs": [],
   "source": [
    "exception_mapping = {\n",
    "    ValueError: UnsupportedValueError,\n",
    "    KeyError: NonExistedKeyError,\n",
    "}\n",
    "\n",
    "\n",
    "@api_computable_exceptions(exception_mapping)\n",
    "def raise_value_error() -> None:\n",
    "    raise ValueError\n",
    "\n",
    "\n",
    "@api_computable_exceptions(exception_mapping)\n",
    "def raise_key_error() -> None:\n",
    "    raise KeyError\n",
    "\n",
    "\n",
    "@api_computable_exceptions(exception_mapping)\n",
    "def raise_exception() -> None:\n",
    "    raise Exception"
   ]
  },
  {
   "cell_type": "code",
   "execution_count": null,
   "metadata": {},
   "outputs": [],
   "source": [
    "try:\n",
    "    raise_value_error()\n",
    "    assert False\n",
    "except UnsupportedValueError:\n",
    "    pass\n",
    "\n",
    "try:\n",
    "    raise_key_error()\n",
    "    assert False\n",
    "except NonExistedKeyError:\n",
    "    pass\n",
    "\n",
    "try:\n",
    "    raise_exception()\n",
    "except Exception as exc:\n",
    "    assert isinstance(exc, Exception)"
   ]
  },
  {
   "cell_type": "markdown",
   "metadata": {},
   "source": [
    "## Задача 2. Точность\n",
    "\n",
    "Напомним, что встроенный тип данных для работы с числами с плавающей точкой `float` в Python обладает ограниченной точностью из-за особенностей хранения чисел с плавающей точкой в памяти компьютера. Более того, из-за этих особенностей вы часто можете получить неожиданные результаты. К числу неожиданных результатов, например, относится следующая сумма:\n",
    "\n",
    "```console\n",
    ">>> 1.1 + 2.2\n",
    "3.3000000000000003\n",
    "```\n",
    "\n",
    "Для того, чтобы сделать работу с числами с плавающей точкой в Python более удобной, интуитивной и ожидаемой, был добавлен модуль `decimal`. Этот модуль позволяет оперировать объектами `Decimal` и получать ожидаемые результаты:\n",
    "\n",
    "```python\n",
    "import decimal\n",
    "result = decimal.Decimal(\"1.1\") + decimal.Decimal(\"2.2\")\n",
    "print(result)\n",
    "# 3.3\n",
    "```\n",
    "\n",
    "Подробнее ознакомиться с возможностями данного модуля можно в [официальной документации](https://docs.python.org/3/library/decimal.html). Помимо прочего, модуль `decimal` позволяет вам явно задать точность, с которой будет происходить вычисление результата при помощи объектов `Decimal`. Например:\n",
    "\n",
    "```python\n",
    "from decimal import Decimal, getcontext\n",
    "getcontext().prec = 3\n",
    "print(Decimal(\"1\") / Decimal(\"3\"))\n",
    "# 0.333\n",
    "getcontext().prec = 20\n",
    "print(Decimal(\"1\") / Decimal(\"3\"))\n",
    "# 0.33333333333333333333\n",
    "```\n",
    "\n",
    "Однако, как быть если нам необходимо изменить точность для проведения конкретных вычислений, а затем вернуться к исходному значению? Самый простой способ: запомнить текущую точность, провести нужные вычисления, а затем, вернуть исходную точность:\n",
    "\n",
    "```python\n",
    "from decimal import Decimal, getcontext\n",
    "\n",
    "print(Decimal(\"1\") / Decimal(\"3\"))\n",
    "prec_curr = getcontext().prec\n",
    "print(f\"{prec_curr = }\")\n",
    "# 0.33333333333333333333\n",
    "# prec_curr = 20\n",
    "\n",
    "getcontext().prec = 3\n",
    "print(Decimal(\"1\") / Decimal(\"3\"))\n",
    "print(f\"prec = {getcontext().prec}\")\n",
    "# 0.333\n",
    "# prec = 3\n",
    "\n",
    "getcontext().prec = prec_curr\n",
    "print(Decimal(\"1\") / Decimal(\"3\"))\n",
    "print(f\"{prec_curr = }\")\n",
    "# 0.33333333333333333333\n",
    "# prec_curr = 20\n",
    "```\n",
    "\n",
    "Однако такой подход не застрахован от ошибок. Если в момент проведения вычислений с измененной точностью произойдет какое-либо исключение, исходная точность не будет восстановлена. Чтобы решить эту проблему, вам необходимо реализовать контекстный менеджер для изменения точности вычислений:\n",
    "\n",
    "```python\n",
    "from decimal import Decimal, getcontext\n",
    "\n",
    "print(f\"prec = {getcontext().prec}\")\n",
    "# prec = 20\n",
    "\n",
    "with Precision(3):\n",
    "    print(Decimal(\"1\") / Decimal(\"3\"))\n",
    "    print(f\"prec = {getcontext().prec}\")\n",
    "    # 0.333\n",
    "    # prec = 3\n",
    "\n",
    "print(f\"prec = {getcontext().prec}\")\n",
    "# prec = 20\n",
    "```\n",
    "\n",
    "**Вход**:\n",
    "- На вход конструктору контекстного менеджера `Precision` подается целое число - требуемая точность. Если пользователем было передано число с плавающей точкой, необходимо округлить его до ближайшего целого числа. Если переданный объект не поддерживает округления - необходимо возбудить `TypeError`. Если полученное после округления число - это число, меньшее единицы, необходимо возбудить `ValueError`.\n",
    "\n",
    "**Решение**:"
   ]
  },
  {
   "cell_type": "code",
   "execution_count": 15,
   "metadata": {},
   "outputs": [],
   "source": [
    "from decimal import Decimal, getcontext\n",
    "from types import TracebackType\n",
    "from typing import Optional"
   ]
  },
  {
   "cell_type": "code",
   "execution_count": 16,
   "metadata": {},
   "outputs": [],
   "source": [
    "class Precision:\n",
    "    def __init__(self, precision: int) -> None:\n",
    "        # ваш код\n",
    "        pass"
   ]
  },
  {
   "cell_type": "code",
   "execution_count": null,
   "metadata": {},
   "outputs": [],
   "source": [
    "precision = 5\n",
    "\n",
    "with Precision(precision):\n",
    "    assert getcontext().prec == precision\n",
    "    print(Decimal(\"1\") / Decimal(\"3\"))"
   ]
  },
  {
   "cell_type": "markdown",
   "metadata": {},
   "source": [
    "## Задача 3. Пункт назначения\n",
    "\n",
    "В объекте `stdout` встроенного модуля `sys` хранится объект, в который интерпретатор записывает результат выполнения функции `print()`, а также промпты, которые печатает функция `input()`. Заменив объект `sys.stdout` мы можем изменить буфер, в который будут писаться наши сообщения. Например, мы можем изменить пункт назначения сообщений со стандартного потока вывода на файл следующим образом:\n",
    "\n",
    "```python\n",
    "import sys\n",
    "\n",
    "file = open(\"out.txt\", \"w\")\n",
    "stdout = sys.stdout\n",
    "sys.stdout = file\n",
    "print(\"Hello!\")\n",
    "sys.stdout = stdout\n",
    "file.close()\n",
    "```\n",
    "\n",
    "В данном примере, до тех пор, пока `sys.stdout` не будет возвращено изначальное значение, все сообщения будут записываться в файл `out.txt`. Однако, очевидно, данный подход обладает существенными недостатками. Если в процессе записи произойдет какое-либо исключение, мы не вернем `sys.stdout` первоначальное значение, и последующие результаты выполнения функций `print()` продолжат писаться в `out.txt`. Более того, если случится исключение, мы не закроем файловый дескриптор файла `out.txt`, а, следовательно, потеряем часть данных и столкнемся с проблемами похуже, в виде утечек памяти.\n",
    "\n",
    "Чтобы этого избежать, логичнее было бы разработать контекстный менеджер, который бы инкапсулировал бы логику работы с файлами и логику с заменой объекта `sys.stdout`, а также обеспечивал бы безопасную работу с ресурсами:\n",
    "\n",
    "```python\n",
    "with FileOut(\"test.txt\") as file_manager:\n",
    "    print(\n",
    "        \"Hello, World!\",\n",
    "        \"This text must be printed into file\",\n",
    "        sep=\"\\n\",\n",
    "    )\n",
    "```\n",
    "\n",
    "**Вход**:\n",
    "- На вход конструктору контекстного менеджера `FileOut` передаются два объекта: `path_to_file`, `mode`. `path_to_file` - путь до файла, в который будет перенаправлен вывод. `mode` - опция, с которой будет открыт файл. У опций есть два значения: `\"w\"` - перезапись содержимого файла, `\"a\"` - запись в конец файла. Параметр `mode` является необязательным и имеет значение по умолчанию `\"w\"`. Если в параметр `mode` будут переданы значения отличные от допустимых, необходимо возбудить `ValueError`.\n",
    "\n",
    "**Решение**:"
   ]
  },
  {
   "cell_type": "code",
   "execution_count": 18,
   "metadata": {},
   "outputs": [],
   "source": [
    "import io\n",
    "import sys\n",
    "\n",
    "from enum import Enum\n",
    "from types import TracebackType\n",
    "from typing import Union, Optional, Self"
   ]
  },
  {
   "cell_type": "code",
   "execution_count": 19,
   "metadata": {},
   "outputs": [],
   "source": [
    "class FileOutModes(Enum):\n",
    "    APPEND = \"a\"\n",
    "    REWRITE = \"w\"\n",
    "\n",
    "\n",
    "class FileOut:\n",
    "    def __init__(\n",
    "        self,\n",
    "        path_to_file: str,\n",
    "        mode: Union[str, FileOutModes] = FileOutModes.REWRITE,\n",
    "    ) -> None:\n",
    "        # ваш код\n",
    "        pass\n",
    "\n",
    "    @property\n",
    "    def mode(self) -> FileOutModes:\n",
    "        # ваш код\n",
    "        pass\n",
    "\n",
    "    @mode.setter\n",
    "    def mode(self, mode_new: Union[str, FileOutModes]) -> None:\n",
    "        # ваш код\n",
    "        pass"
   ]
  },
  {
   "cell_type": "markdown",
   "metadata": {},
   "source": [
    "**Проверка**:"
   ]
  },
  {
   "cell_type": "code",
   "execution_count": null,
   "metadata": {},
   "outputs": [],
   "source": [
    "with FileOut(\"test.txt\") as file_manager:\n",
    "    print(\n",
    "        \"Hello, World!\",\n",
    "        \"This text must be printed into file\",\n",
    "        sep=\"\\n\",\n",
    "    )\n",
    "\n",
    "print(\"This text must be printed into stdout\")"
   ]
  },
  {
   "cell_type": "code",
   "execution_count": null,
   "metadata": {},
   "outputs": [],
   "source": [
    "file_manager.mode = \"a\"\n",
    "\n",
    "with file_manager:\n",
    "    print(\"Append more text!\")"
   ]
  },
  {
   "cell_type": "code",
   "execution_count": null,
   "metadata": {},
   "outputs": [],
   "source": [
    "try:\n",
    "    file_manager.mode = \"rewrite\"\n",
    "\n",
    "except ValueError:\n",
    "    pass\n",
    "\n",
    "else:\n",
    "    assert False"
   ]
  }
 ],
 "metadata": {
  "kernelspec": {
   "display_name": "venv",
   "language": "python",
   "name": "python3"
  },
  "language_info": {
   "codemirror_mode": {
    "name": "ipython",
    "version": 3
   },
   "file_extension": ".py",
   "mimetype": "text/x-python",
   "name": "python",
   "nbconvert_exporter": "python",
   "pygments_lexer": "ipython3",
   "version": "3.11.1"
  }
 },
 "nbformat": 4,
 "nbformat_minor": 2
}
