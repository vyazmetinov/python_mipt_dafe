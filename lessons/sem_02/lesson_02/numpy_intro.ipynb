{
 "cells": [
  {
   "cell_type": "markdown",
   "metadata": {},
   "source": [
    "# Введение в NumPy\n",
    "\n",
    "## Мотивация к изучению\n",
    "\n",
    "Во многих прикладных задачах вам предстоит иметь дело с данными, хранящимися в массивах различной размерности. Так, например, при работе с радиолокационными или акустическими сигналами вы, скорее всего, будете иметь дело с одномерными массивами. Элементы таких массивов - числа с плавающей точкой, значения которых соответствуют значению амплитуды сигнала в определенный момент времени. При анализе одноканальных (черно-белых) изображений вам предстоит обрабатывать двумерные массивы, в ячейках которых закодированы яркости пикселей изображения. Наконец, при работе с цветными изображениями вы столкнетесь с многомерными массивами - тензорами. Также многомерные массивы лежат в основе большого количества алгоритмов и технологий, к числу которых относятся, например, сверточные нейронные сети.\n",
    "\n",
    "![image-struct](./images/image_struct.png)\n",
    "\n",
    "Из всего выше сказанного, очевидно, что необходим инструмент для работы с массивами большой размерности, содержащими большое количество элементов. Из заголовка семинара и из хода повествования вам должно быть очевидно, что к числу таких инструментов и относится `NumPy`. Однако, прежде, чем перейти к знакомству с ним, давайте подумаем, почему мы не можем использовать \"чистый\" Python для работы с большими и многомерными массивами. Решим пару задач.\n",
    "\n",
    "## Задача 1. Перегруз\n",
    "\n",
    "### Познавательная минутка\n",
    "\n",
    "Думаю, все вы слышали звук перегруженной гитары (если это не так, могу вам только посочувствовать и посоветовать послушать, например, *Black Sabbath - \"Iron Man\"*). Давайте разберемся откуда берется этот звук. Итак, в нашем распоряжении есть электрогитара и гитарный усилитель. С помощью электрогитары мы получаем некоторый электромагнитный сигнал, который поступает на вход усилителя по кабелю. Внутри гитарного усилителя происходит, как это не странно, усиление входного сигнала. Усиленный сигнал поступает на динамик усилителя, и мы слышим музыку. Однако амплитудный диапазон динамика не резиновый. Динамик не может воспроизводить любой усиленный сигнал в исходном виде без искажений. Когда значение амплитуды усиленного сигнала превышает максимально возможное значение амплитуду, которую способен воспроизвести динамик, происходит так называемый клиппинг, т.е. обрезание пиков сигнала. В результате мы слышим усиленный, но искаженный сигнал и получаем тот самый эффект перегруза.\n",
    "\n",
    "![signal-clipping](./images/clipping.png)\n",
    "\n",
    "### Задание\n",
    "\n",
    "Для того, чтобы понять, почему \"чистый\" Python не подойдет для работы с большими массивами данных, реализуем описанный выше алгоритм клиппинга. Чтобы реализовать алгоритм, нам потребуется:\n",
    "- Создать сам сигнал;\n",
    "- Усилить сигнал;\n",
    "- Обрезать пики сигнал;\n",
    "\n",
    "Для каждого описанного выше шага реализуем отдельную функцию.\n",
    "\n",
    "**Функция создания сигнала**\n",
    "\n",
    "В качестве базового сигнала используется функция $sin(x)$.\n",
    "\n",
    "*Входные данные*:\n",
    "- `sampling_period` - положительное число с плавающей точкой, соответствующее периоду дискретизации (шаг по времени);\n",
    "- `sample_amount` - натуральное число (считаем, что натуральные числа начинаются с $1$), количество дискретов в сигнале;\n",
    "- `modulation` - `Callable`-объект или `None`, функция модуляции сигнала. Если `None`, то модуляция не осуществляется. Функция модуляции должна иметь следующую сигнатуру:\n",
    "    ```python\n",
    "    def modulation(signal: float) -> float:\n",
    "        ...\n",
    "    ```\n",
    "\n",
    "*Выходные данные*:\n",
    "- Объект типа `list[float]` - сгенерированный и промодулированный сигнал. Фактически, результат - это список, состоящий из `sample_amount` элементов, `i`-ый элемент которого - это значение функции $sin(x) * modulation(x)$ в точке `sampling_period * i`.\n",
    "\n",
    "**Функция усиления**\n",
    "\n",
    "*Входные данные*:\n",
    "- `signal` - список чисел с плавающей точкой, входной сигнал;\n",
    "- `gain` - положительное число с плавающей точкой, большее нуля, коэффициент усиления;\n",
    "\n",
    "*Выходные данные*:\n",
    "- Список чисел с плавающей точкой, `i`-ый элемент которого соответствует `i`-ому элементу списка `signal`, увеличенного в `gain` раз.\n",
    "\n",
    "**Функция клиппинга**\n",
    "\n",
    "*Входные данные*:\n",
    "- `signal` - список чисел с плавающей точкой, входной сигнал;\n",
    "- `threshold` - положительное число с плавающей точкой, большее нуля; уровень, по которому будет происходить обрезание сигнала;\n",
    "\n",
    "*Выходные данные*:\n",
    "- Список чисел с плавающей точкой. Значение `i`-ого элемента результирующего списка описывается следующим выражение:\n",
    "\n",
    "$$res_i = \\begin{cases} signal_i, |signal_i| \\le threshold \\\\ threshold * sign(signal_i), |signal_i| \\gt threshold \\end{cases}$$\n",
    "\n",
    "**Необходимые импорты:**"
   ]
  },
  {
   "cell_type": "code",
   "execution_count": 1,
   "metadata": {},
   "outputs": [],
   "source": [
    "import math\n",
    "import pathlib\n",
    "import sys\n",
    "\n",
    "from typing import Callable, Optional\n",
    "\n",
    "from utils import read_floats_from_bytes\n",
    "from utils import visualize_1d_array"
   ]
  },
  {
   "cell_type": "markdown",
   "metadata": {},
   "source": [
    "**Константы:**"
   ]
  },
  {
   "cell_type": "code",
   "execution_count": 2,
   "metadata": {},
   "outputs": [],
   "source": [
    "sample_amount = int(1e7)                    # количество отсчетов в сигнале                          \n",
    "sampling_period = 6 * math.pi *1e-7         # период дискретизации\n",
    "gane = 10                                   # коэффициент усиления\n",
    "threshold = 4                               # порог\n",
    "eps = 1e-6                                  # точность"
   ]
  },
  {
   "cell_type": "markdown",
   "metadata": {},
   "source": [
    "**Функция модуляции:**"
   ]
  },
  {
   "cell_type": "code",
   "execution_count": 3,
   "metadata": {},
   "outputs": [],
   "source": [
    "def modulate(signal: float) -> float:\n",
    "    return math.exp(-0.1 * signal)"
   ]
  },
  {
   "cell_type": "markdown",
   "metadata": {},
   "source": [
    "**Решение:**"
   ]
  },
  {
   "cell_type": "code",
   "execution_count": 4,
   "metadata": {},
   "outputs": [],
   "source": [
    "def get_signal(\n",
    "    sampling_period: float,\n",
    "    sample_amount: int,\n",
    "    modulation: Optional[Callable[[float], float]] = None,\n",
    ") -> list[float]:\n",
    "    # ваш код\n",
    "    return []\n",
    "\n",
    "\n",
    "def amplify_signal(\n",
    "    signal: list[float],\n",
    "    gane: float,\n",
    ") -> list[float]:\n",
    "    # ваш код\n",
    "    return []\n",
    "\n",
    "\n",
    "def clip_signal(\n",
    "    signal: list[float],\n",
    "    threshold: float,\n",
    ") -> list[float]:\n",
    "    # ваш код\n",
    "    return []"
   ]
  },
  {
   "cell_type": "markdown",
   "metadata": {},
   "source": [
    "**Профилирование решения:**"
   ]
  },
  {
   "cell_type": "code",
   "execution_count": null,
   "metadata": {},
   "outputs": [],
   "source": [
    "# %%timeit -r 1 -n 1\n",
    "signal = get_signal(sampling_period, sample_amount, modulate)\n",
    "signal_amplified = amplify_signal(signal, gane)\n",
    "signal_clipped = clip_signal(signal_amplified, threshold)\n",
    "\n",
    "print(f\"signal size: {sys.getsizeof(signal)} bytes\")"
   ]
  },
  {
   "cell_type": "markdown",
   "metadata": {},
   "source": [
    "**Визуализация результата:**"
   ]
  },
  {
   "cell_type": "code",
   "execution_count": null,
   "metadata": {},
   "outputs": [],
   "source": [
    "assert signal is not signal_amplified\n",
    "assert signal_amplified is not signal_clipped"
   ]
  },
  {
   "cell_type": "code",
   "execution_count": null,
   "metadata": {},
   "outputs": [],
   "source": [
    "visualize_1d_array(ordinate=signal_clipped)"
   ]
  },
  {
   "cell_type": "markdown",
   "metadata": {},
   "source": [
    "**Сравнение результатов с эталоном:**"
   ]
  },
  {
   "cell_type": "code",
   "execution_count": null,
   "metadata": {},
   "outputs": [],
   "source": [
    "path_to_reference = pathlib.Path(\"./test_data/signal_clipped.log\")\n",
    "assert path_to_reference.exists(), \"no reference data for testing\"\n",
    "\n",
    "signal_referense = read_floats_from_bytes(\n",
    "    sample_amount, path_to_reference\n",
    ")\n",
    "\n",
    "assert all(\n",
    "    abs(amp - amp_ref) < eps\n",
    "    for amp, amp_ref in zip(signal_clipped, signal_referense)\n",
    ")"
   ]
  },
  {
   "cell_type": "markdown",
   "metadata": {},
   "source": [
    "Удалим списки, чтобы они не занимали место в памяти:"
   ]
  },
  {
   "cell_type": "code",
   "execution_count": 9,
   "metadata": {},
   "outputs": [],
   "source": [
    "del signal\n",
    "del signal_amplified\n",
    "del signal_clipped\n",
    "del signal_referense"
   ]
  },
  {
   "cell_type": "markdown",
   "metadata": {},
   "source": [
    "Как можно видеть, уже на 10 миллионах чисел с плавающей точкой у нас начинаются проблемы. Клиппинг происходит достаточно медленно. Может, дела обстоят иначе для многомерных массивов?\n",
    "\n",
    "## Задача 2. Матрицы\n",
    "\n",
    "### Часть 1. Перемножение\n",
    "\n",
    "Задача проста: необходимо реализовать функцию, которая занималась бы перемножением двух матриц по всем правилам линейной алгебры. Если матрицы не могу быть перемножены, необходимо возбудить исключение `ShapeMismatchError`.\n",
    "\n",
    "*Входные данные*:\n",
    "- `lhs` - двумерный массив, расположенный слева от оператора перемножения матриц; элементы массива - числа с плавающей точкой;\n",
    "- `rhs` - двумерный массив, расположенный справа от оператора перемножения матриц; элементы массива - числа с плавающей точкой;\n",
    "\n",
    "Гарантируются, что матрицы содержат хотя бы одну строку и хотя бы один столбец.\n",
    "\n",
    "*Выходные данные*:\n",
    "- Двумерный массив - результат произведения матрицы `lhs` на матрицу `rhs` в соответствии со всеми правилами линейной алгебры.\n",
    "\n",
    "*Сторонние эффекты*:\n",
    "- Если матрицы не могут быть перемножены между собой, необходимо возбудить исключение `ShapeMismatchError`. \n",
    "\n",
    "\n",
    "**Необходимые импорты:**"
   ]
  },
  {
   "cell_type": "code",
   "execution_count": 10,
   "metadata": {},
   "outputs": [],
   "source": [
    "from random import randint"
   ]
  },
  {
   "cell_type": "markdown",
   "metadata": {},
   "source": [
    "**Константы:**"
   ]
  },
  {
   "cell_type": "code",
   "execution_count": 11,
   "metadata": {},
   "outputs": [],
   "source": [
    "columns_amount = 1000           # число колонок в матрице для тестирования\n",
    "rows_amount = 500               # число строк в матрице для тестирования\n",
    "\n",
    "bottom = -10                    # нижняя граница значений чисел в матрице\n",
    "top = 10                        # верхняя граница значений чисел в матрице"
   ]
  },
  {
   "cell_type": "markdown",
   "metadata": {},
   "source": [
    "**Решение:**"
   ]
  },
  {
   "cell_type": "code",
   "execution_count": 53,
   "metadata": {},
   "outputs": [],
   "source": [
    "class ShapeMismatchError(Exception):\n",
    "    \"\"\"Возбуждается, если матрицы не могут быть перемножены.\"\"\"\n",
    "\n",
    "\n",
    "def multiply_matrices(\n",
    "    lhs: list[list[float]],\n",
    "    rhs: list[list[float]],\n",
    ") -> list[list[float]]:\n",
    "    # ваш код\n",
    "    return [[0]]"
   ]
  },
  {
   "cell_type": "markdown",
   "metadata": {},
   "source": [
    "**Тестирование решения:**"
   ]
  },
  {
   "cell_type": "code",
   "execution_count": 13,
   "metadata": {},
   "outputs": [],
   "source": [
    "lhs = [\n",
    "    [7, -1, -4],\n",
    "    [-1, 5, -1],\n",
    "]\n",
    "rhs = [\n",
    "    [-2, -5],\n",
    "    [-5, -6],\n",
    "    [-5, 3],\n",
    "]\n",
    "reference = [\n",
    "    [11, -41],\n",
    "    [-18, -28]\n",
    "]"
   ]
  },
  {
   "cell_type": "code",
   "execution_count": 14,
   "metadata": {},
   "outputs": [],
   "source": [
    "result = multiply_matrices(lhs, rhs)\n",
    "\n",
    "assert all(\n",
    "    all(\n",
    "        num_res == num_ref \n",
    "        for num_res, num_ref in zip(row_res, row_ref)\n",
    "    )\n",
    "    for row_res, row_ref in zip(result, reference)\n",
    ")\n",
    "\n",
    "was_raised = False\n",
    "\n",
    "try:\n",
    "    result = multiply_matrices(lhs, rhs[:2])\n",
    "\n",
    "except ShapeMismatchError:\n",
    "    was_raised = True\n",
    "\n",
    "assert was_raised"
   ]
  },
  {
   "cell_type": "markdown",
   "metadata": {},
   "source": [
    "**Прифилирование решения:**"
   ]
  },
  {
   "cell_type": "code",
   "execution_count": 15,
   "metadata": {},
   "outputs": [],
   "source": [
    "# %%timeit -r 1 -n 1\n",
    "lhs = [\n",
    "    [randint(bottom, top) for _ in range(columns_amount)]\n",
    "    for _ in range(rows_amount)\n",
    "]\n",
    "\n",
    "rhs = [\n",
    "    [randint(bottom, top) for _ in range(rows_amount)]\n",
    "    for _ in range(columns_amount)\n",
    "]\n",
    "\n",
    "result = multiply_matrices(lhs, rhs)"
   ]
  },
  {
   "cell_type": "code",
   "execution_count": 16,
   "metadata": {},
   "outputs": [],
   "source": [
    "del lhs\n",
    "del rhs\n",
    "del result"
   ]
  },
  {
   "cell_type": "markdown",
   "metadata": {},
   "source": [
    "### Часть 2. Транспонирование\n",
    "\n",
    "Транспонируйте матрицу.\n",
    "\n",
    "*Входные данные*:\n",
    "- `matrix` - двумерный массив, состоящий из чисел с плавающей точкой - матрица, которую необходимо транспонировать;\n",
    "\n",
    "*Выходные данные*:\n",
    "- Двумерный массив, состоящий из чисел с плавающей точкой - транспонированная матрица."
   ]
  },
  {
   "cell_type": "markdown",
   "metadata": {},
   "source": [
    "**Решение:**"
   ]
  },
  {
   "cell_type": "code",
   "execution_count": 54,
   "metadata": {},
   "outputs": [],
   "source": [
    "def transpose(matrix: list[list[float]]) -> list[list[float]]:\n",
    "    # ваш код\n",
    "    return matrix"
   ]
  },
  {
   "cell_type": "markdown",
   "metadata": {},
   "source": [
    "**Тестирование:**"
   ]
  },
  {
   "cell_type": "code",
   "execution_count": 18,
   "metadata": {},
   "outputs": [],
   "source": [
    "matrix = [\n",
    "    [-2, -5],\n",
    "    [-5, -6],\n",
    "    [-5, 3],\n",
    "]\n",
    "reference = [\n",
    "    [-2, -5, -5],\n",
    "    [-5, -6, 3],\n",
    "]"
   ]
  },
  {
   "cell_type": "code",
   "execution_count": 19,
   "metadata": {},
   "outputs": [],
   "source": [
    "transposed = transpose(matrix)\n",
    "\n",
    "assert transposed is not matrix\n",
    "assert all(\n",
    "    all(\n",
    "        num_res == num_ref \n",
    "        for num_res, num_ref in zip(row_res, row_ref)\n",
    "    )\n",
    "    for row_res, row_ref in zip(transposed, reference)\n",
    ")"
   ]
  },
  {
   "cell_type": "markdown",
   "metadata": {},
   "source": [
    "**Профилирование решения:**"
   ]
  },
  {
   "cell_type": "code",
   "execution_count": 20,
   "metadata": {},
   "outputs": [],
   "source": [
    "# %%timeit -r 1 -n 1\n",
    "size = int(2e3)\n",
    "\n",
    "matrix = [\n",
    "    [randint(bottom, top) for _ in range(size)]\n",
    "    for _ in range(size)\n",
    "]\n",
    "\n",
    "transposed = transpose(matrix)"
   ]
  },
  {
   "cell_type": "code",
   "execution_count": 21,
   "metadata": {},
   "outputs": [],
   "source": [
    "del transposed"
   ]
  },
  {
   "cell_type": "markdown",
   "metadata": {},
   "source": [
    "Как видите с многомерными массивами \"чистый\" Python работает достаточно медленно. Тут-то на сцену и выходит `NumPy`.\n",
    "\n",
    "\n",
    "## Что такое NumPy?\n",
    "\n",
    "Прежде чем перейти к самому NumPy, давайте разберемся, почему работа с большими массивами данных средствами Python настолько неэффективна. Ключ к пониманию кроется в способе хранения данных в Python. Напомню, что любой объект в CPython - это не просто ячейка памяти со значением, как это было в C или C++. Объект в CPython - это указатель на структуру C. В этой структуре, помимо самого значения объекта хранятся метаданные объекта, которые используются интерпретатором Python. К числу таких данных относится тип объекта, счетчик ссылок, размер объекта. Массивы же - это не просто указатели на непрерывные блоки памяти с необходимыми данными, которые можно было бы быстро обрабатывать за счет кеширования. Массивы в CPython - это непрерывные области памяти, в которых хранятся адреса объектов CPython в памяти. Таким образом при обработке массива, мы читаем данные из памяти два раза: сначала адрес объекта, а потом сам объект. При этом указатели могут указывать на произвольные области памяти, которые не получится эффективно кешировать. Такой способ хранения данных с одной стороны позволяет иметь коллекции объектов различных типов данных, но с другой стороны сильно снижает эффективность обработки этих данных. \n",
    "\n",
    "NumPy подходит иначе к хранению данных. `NumPy` (сокращение от *Numerical Python*) - библиотека для эффективной работы с плотными массивами однородных данных. Особенно стоит выделить слово \"однородными\", ведь именно оно позволяет понять причину эффективности NumPy. Массивы NumPy являются оберткой вокруг C-массивов, т.е. массив NumPy инкапсулирует указатель на непрерывный блок в памяти, в котором хранятся данные одного типа. Это сильно ускоряет работу с этими данными и даже позволяет сэкономить память.\n",
    "\n",
    "![arrays](./images/arrays.png)"
   ]
  },
  {
   "cell_type": "markdown",
   "metadata": {},
   "source": [
    "## Быстрая демонстрация возможностей\n",
    "\n",
    "Чтобы убедиться, что эффективность NumPy - это не пустое преувеличение, реализуем решение всех поставленных выше задач с помощью NumPy."
   ]
  },
  {
   "cell_type": "code",
   "execution_count": 9,
   "metadata": {},
   "outputs": [],
   "source": [
    "import numpy as np\n",
    "\n",
    "from utils import visualize_1d_array"
   ]
  },
  {
   "cell_type": "markdown",
   "metadata": {},
   "source": [
    "### Перегруз"
   ]
  },
  {
   "cell_type": "code",
   "execution_count": 10,
   "metadata": {},
   "outputs": [],
   "source": [
    "sample_amount = int(1e7)    # количество отсчетов в сигнале                          \n",
    "gane = 10                   # коэффициент усиления\n",
    "threshold = 4               # порог\n",
    "eps = 1e-6                  # точность"
   ]
  },
  {
   "cell_type": "code",
   "execution_count": 11,
   "metadata": {},
   "outputs": [],
   "source": [
    "# %%timeit -r 1 -n 1\n",
    "time = np.linspace(0, 6 * np.pi, sample_amount)\n",
    "\n",
    "signal = np.sin(time) * np.exp(-0.1 * time)\n",
    "signal_amplified = gane * signal\n",
    "\n",
    "signal_clipped = signal_amplified.copy()\n",
    "mask = np.abs(signal_clipped) > threshold\n",
    "signal_clipped[mask] = np.sign(signal_clipped[mask]) * threshold"
   ]
  },
  {
   "cell_type": "code",
   "execution_count": null,
   "metadata": {},
   "outputs": [],
   "source": [
    "visualize_1d_array(abscissa=time, ordinate=signal_clipped)"
   ]
  },
  {
   "cell_type": "code",
   "execution_count": 26,
   "metadata": {},
   "outputs": [],
   "source": [
    "del signal\n",
    "del signal_amplified\n",
    "del signal_clipped"
   ]
  },
  {
   "cell_type": "markdown",
   "metadata": {},
   "source": [
    "### Перемножение матриц"
   ]
  },
  {
   "cell_type": "code",
   "execution_count": 27,
   "metadata": {},
   "outputs": [],
   "source": [
    "columns_amount = 1000           # число колонок в матрице\n",
    "rows_amount = 500               # число строк в матрице\n",
    "\n",
    "bottom = -10                    # нижняя граница значений числе в матрице\n",
    "top = 10                        # верхняя граница значений числе в матрице"
   ]
  },
  {
   "cell_type": "code",
   "execution_count": null,
   "metadata": {},
   "outputs": [],
   "source": [
    "# %%timeit -r 1 -n 1\n",
    "lhs = np.random.randint(\n",
    "    low=bottom,\n",
    "    high=top,\n",
    "    size=(rows_amount, columns_amount),\n",
    ")\n",
    "rhs = np.random.randint(\n",
    "    low=bottom,\n",
    "    high=top,\n",
    "    size=(columns_amount, rows_amount),\n",
    ")\n",
    "\n",
    "result = lhs @ rhs\n",
    "result"
   ]
  },
  {
   "cell_type": "code",
   "execution_count": 29,
   "metadata": {},
   "outputs": [],
   "source": [
    "del lhs\n",
    "del rhs\n",
    "del result"
   ]
  },
  {
   "cell_type": "markdown",
   "metadata": {},
   "source": [
    "### Транспонирование"
   ]
  },
  {
   "cell_type": "code",
   "execution_count": 30,
   "metadata": {},
   "outputs": [],
   "source": [
    "# %%timeit -r 1 -n 1\n",
    "\n",
    "matrix = np.random.randint(\n",
    "    low=bottom,\n",
    "    high=top,\n",
    "    size=(rows_amount, columns_amount),\n",
    ")\n",
    "\n",
    "transposed = matrix.T\n",
    "del transposed"
   ]
  },
  {
   "cell_type": "markdown",
   "metadata": {},
   "source": [
    "Как вы видите NumPy позволяет решать задачи с матричными вычислениями на порядки быстрее.\n",
    "\n",
    "## Основы NumPy\n",
    "\n",
    "### Создание массивов\n",
    "\n",
    "Как вы поняли из всего сказанного выше, центральным элементов библиотеки является многомерный массив. Именно поэтому мы начнем знакомство с создания массивов. Обычный и самый распространненный способ создания массива - функция `array()`, которая принимает на вход массиво-подобные объекты и возвращает массив NumPy.\n",
    "\n",
    "#### Создание массивов из объектов Python"
   ]
  },
  {
   "cell_type": "code",
   "execution_count": null,
   "metadata": {},
   "outputs": [],
   "source": [
    "array_python = list(range(5))\n",
    "\n",
    "array_ints = np.array(array_python)\n",
    "print(f\"{array_ints = }\")\n",
    "\n",
    "array_python[3] = 3.14\n",
    "\n",
    "array_floats = np.array(array_python)\n",
    "print(f\"{array_floats = }\")\n",
    "\n",
    "array_python[3] = 3\n",
    "\n",
    "array_doubles = np.array(array_python, dtype=np.float64)\n",
    "print(f\"{array_doubles = }\")\n",
    "\n",
    "array_of_objects = [\n",
    "    1, 2.27, [1, 2, 3], {\"a\": 1, \"b\": 2}\n",
    "]\n",
    "array_of_objects = np.array(array_of_objects, dtype=object)\n",
    "print(f\"{array_of_objects = }\")\n",
    "\n",
    "array_2d = np.array(\n",
    "    [[i + j for j in range(5)] for i in range(5)]\n",
    ")\n",
    "print(array_2d)"
   ]
  },
  {
   "cell_type": "markdown",
   "metadata": {},
   "source": [
    "Массив NumPy содержит данные одного типа. При попытке создания массива из разнородных данных NumPy, если это возможно, будет производить повышающее приведение типов до тех пор, пока все данные не будут унифицированы. \n",
    "\n",
    "Так во втором примере, из-за наличия в данных числа `3.14`, итоговый тип данных массива - `float`. В четвертом примере NumPy не сможет самостоятельно привести данные к одному типу, поэтому нам пришлось указать их явно. Тип `object` наиболее общий и означает, что массив состоит из объектов языка Python (в нашем примере `int`, `float`, `list` и `dict`).\n",
    "\n",
    "При необходимости можно явно указать желаемый тип данных, путем присвоение аргументу `dtype` допустимого значения. \n",
    "\n",
    "Также обратите внимание на последний пример. В NumPy возможно создание многомерных массивов из списков со вложенными списками. Однако для этого требуется, чтобы вложенные списки имели одинаковый размер. Так в нашем примере вложенные списки интерпретируются, как строки двухмерной матрицы.\n",
    "\n",
    "#### Создание массивов \"с нуля\"\n",
    "\n",
    "Мы не всегда имеем под рукой объект, который бы хотелось представить в виде многомерного массива NumPy. Иногда целесообразней, или даже необходимо, создать новый объект \"с нуля\". Для этих целей в NumPy есть ряд функций.\n",
    "\n",
    "**zeros/ones/full:**\n",
    "\n",
    "Это набор функций, которые позволяют создавать массивы, заполненные одинаковыми элементами. Так функция `zeros` позволяет создать массив, заполненный нулями, `ones` - массив, заполненный единицами, а `full` - массив, заполненный переданными значением. Поэтому сигнатуры функций очень похожи между собой."
   ]
  },
  {
   "cell_type": "code",
   "execution_count": null,
   "metadata": {},
   "outputs": [],
   "source": [
    "zeros_1d = np.zeros(shape=10, dtype=np.uint8)\n",
    "ones_1d = np.ones(shape=5, dtype=np.uint32)\n",
    "\n",
    "zeros_3d = np.zeros(shape=(3, 3, 3), dtype=np.float32)\n",
    "full_2d = np.full(shape=(5, 5), fill_value=255, dtype=np.uint8)\n",
    "\n",
    "print(f\"Zeros 1D:\\n{zeros_1d}\", end=\"\\n\\n\")\n",
    "print(f\"Zeros 3D:\\n{zeros_3d}\", end=\"\\n\\n\")\n",
    "print(f\"Ones 1D:\\n{ones_1d}\", end=\"\\n\\n\")\n",
    "print(f\"Full 2D:\\n{full_2d}\")"
   ]
  },
  {
   "cell_type": "markdown",
   "metadata": {},
   "source": [
    "Эти функции могут быть полезными при создании некоторых заготовок или аккумуляторов для вычислений."
   ]
  },
  {
   "cell_type": "markdown",
   "metadata": {},
   "source": [
    "**linspace:**\n",
    "\n",
    "В задаче на вычисление перегруза для генерации сигнала нам потребовалось вычислять значение времени, зная шаг дискретизации. Однако нам не всегда может быть известен шаг дискретизации, но может быть известен диапазон значений и количество отсчетов, которые необходимо взять из данного диапазона. Поскольку такая задача является типовой и встречается на практике очень часто, в NumPy реализована специальная функция для этого:"
   ]
  },
  {
   "cell_type": "code",
   "execution_count": null,
   "metadata": {},
   "outputs": [],
   "source": [
    "np.linspace(0, np.pi, 32)"
   ]
  },
  {
   "cell_type": "markdown",
   "metadata": {},
   "source": [
    "**Немного о random:**\n",
    "\n",
    "В ряде задач бывает полезно создать массивы, заполненые случайными числами из определенного распределения вероятностей. Так, например, в глубоком обучении для повышения качества модели с функцией активации `ReLU` в начале обучения рекомендуется инициализировать веса случайными числами из нормального закона распределения.\n",
    "\n",
    "Эту задачу можно решить, используя подмодуль NumPy, который носит характерное название `random`."
   ]
  },
  {
   "cell_type": "code",
   "execution_count": null,
   "metadata": {},
   "outputs": [],
   "source": [
    "normal = np.random.normal(loc=0, scale=1, size=(3, 3))\n",
    "uniform = np.random.uniform(low=-10, high=10, size=(3, 3))\n",
    "randomint = np.random.randint(0, 10, size=(3, 3))\n",
    "\n",
    "print(f\"Normal:\\n{normal}\", end=\"\\n\\n\")\n",
    "print(f\"Uniform:\\n{uniform}\", end=\"\\n\\n\")\n",
    "print(f\"Randint:\\n{randomint}\", end=\"\\n\\n\")"
   ]
  },
  {
   "cell_type": "markdown",
   "metadata": {},
   "source": [
    "**eye/diag**\n",
    "\n",
    "Поскольку NumPy часто используется для реализации вычислений из линейной алгебры, о чем мы поговорим в будущем, в нем есть отдельные функции для создания единичных матриц и диагональных матриц."
   ]
  },
  {
   "cell_type": "code",
   "execution_count": null,
   "metadata": {},
   "outputs": [],
   "source": [
    "eye_square = np.eye(5)\n",
    "eye_rectangle = np.eye(3, 5)\n",
    "diag = np.diag([3, 5, 9])\n",
    "\n",
    "print(f\"Eye Square:\\n{eye_square}\", end=\"\\n\\n\")\n",
    "print(f\"Eye Rectangle:\\n{eye_rectangle}\", end=\"\\n\\n\")\n",
    "print(f\"Diagonal:\\n{diag}\", end=\"\\n\\n\")"
   ]
  },
  {
   "cell_type": "markdown",
   "metadata": {},
   "source": [
    "**empty:**\n",
    "\n",
    "В ряде задач полезно создать \"пустой\" массив, т.е. массив, который не инициализирован никакими данным. Этот массив может быть использован в качестве буффера, в который будут записываться результаты различных матричных операций."
   ]
  },
  {
   "cell_type": "code",
   "execution_count": null,
   "metadata": {},
   "outputs": [],
   "source": [
    "np.empty(5)"
   ]
  },
  {
   "cell_type": "markdown",
   "metadata": {},
   "source": [
    "### Атрибуты массивов"
   ]
  },
  {
   "cell_type": "code",
   "execution_count": null,
   "metadata": {},
   "outputs": [],
   "source": [
    "def print_attributes(array: np.ndarray) -> None:\n",
    "    print('\\n--------------------------------------------------')\n",
    "    print(f'\\n{array}\\n')\n",
    "    print(f'Array shape: {array.shape};')\n",
    "    print(f'Array dimension: {array.ndim};')\n",
    "    print(f\"Array element's amount: {array.size};\")\n",
    "    print(f\"Array element's size: {array.itemsize}\")\n",
    "    print(f'Array memory space: {array.nbytes};')\n",
    "    print('--------------------------------------------------')"
   ]
  },
  {
   "cell_type": "code",
   "execution_count": null,
   "metadata": {},
   "outputs": [],
   "source": [
    "arrays = [np.random.uniform(0, 10, size=3),\n",
    "          np.random.uniform(0, 10, size=(3, 3)),\n",
    "          np.random.uniform(0, 10, size=(3, 3, 3))]\n",
    "\n",
    "for array in arrays:\n",
    "    print_attributes(array)"
   ]
  },
  {
   "cell_type": "markdown",
   "metadata": {},
   "source": [
    "### Доступ к элементам"
   ]
  },
  {
   "cell_type": "code",
   "execution_count": 39,
   "metadata": {},
   "outputs": [],
   "source": [
    "arr_1d, arr_2d, arr_3d = arrays"
   ]
  },
  {
   "cell_type": "markdown",
   "metadata": {},
   "source": [
    "#### Индексация\n",
    "\n",
    "Индексация массивов в NumPy представляет собой улучшенную индексацию списков в Python. Сами по себе массивы NumPy - изменяемый тип данных, т.е. мы можем перезаписывать элементы с помощью индексации."
   ]
  },
  {
   "cell_type": "code",
   "execution_count": null,
   "metadata": {},
   "outputs": [],
   "source": [
    "line_len, fill_val = 80, \"-\"\n",
    "\n",
    "print(\"Python Way\".center(line_len, fill_val))\n",
    "print(f\"1D:\\n{arr_1d[0]}\")\n",
    "print(f\"2D:\\n{arr_2d[0][2]}\")\n",
    "print(f\"3D:\\n{arr_3d[0][1][2]}\", end=\"\\n\\n\")\n",
    "\n",
    "print(\"NumPy Way\".center(line_len, fill_val))\n",
    "print(f\"2D:\\n{arr_2d[0, 2]}\")\n",
    "print(f\"3D:\\n{arr_3d[0, 1, 2]}\")"
   ]
  },
  {
   "cell_type": "markdown",
   "metadata": {},
   "source": [
    "#### Срезы\n",
    "\n",
    "В одномерном случае срезы аналогичны срезам списков в Python."
   ]
  },
  {
   "cell_type": "code",
   "execution_count": null,
   "metadata": {},
   "outputs": [],
   "source": [
    "numbers = np.arange(20)\n",
    "\n",
    "print(numbers)\n",
    "print(numbers[5: 10])\n",
    "print(numbers[::2])\n",
    "print(numbers[1::2])\n",
    "print(numbers[::-1])"
   ]
  },
  {
   "cell_type": "markdown",
   "metadata": {},
   "source": [
    "Однако, помимо знакомых нам одномерных срезов, в NumPy есть крайне удобные многомерные срезы:"
   ]
  },
  {
   "cell_type": "code",
   "execution_count": null,
   "metadata": {},
   "outputs": [],
   "source": [
    "print(arr_2d, end=\"\\n\\n\")\n",
    "\n",
    "arr_2d[1:, 1:] = 100\n",
    "print(arr_2d, end=\"\\n\\n\")\n",
    "print(arr_2d[::2, ::2], end=\"\\n\\n\")\n",
    "print(arr_2d[::-1, 0], end=\"\\n\\n\")"
   ]
  },
  {
   "cell_type": "markdown",
   "metadata": {},
   "source": [
    "Важное замечание, которое стоит держать в голове: в отличие от списков в Python, срезы массивов в NumPy возвращают не новый объект, а указатель на область в памяти с элементами существующего объекта. Т.е. связав результат среза с новой переменной, у вас есть возможность безвозвратно изменить исходный объект, совершая манипуляции через эту переменную с исходными данными. Проиллюстрируем эти утверждения следующим примером:"
   ]
  },
  {
   "cell_type": "code",
   "execution_count": null,
   "metadata": {},
   "outputs": [],
   "source": [
    "numbers = np.arange(10)\n",
    "\n",
    "print(numbers, end=\"\\n\\n\")\n",
    "\n",
    "my_slice = numbers[5: 10]\n",
    "my_slice[:] = 100\n",
    "\n",
    "print(my_slice, end=\"\\n\\n\")\n",
    "print(numbers, end=\"\\n\\n\")"
   ]
  },
  {
   "cell_type": "markdown",
   "metadata": {},
   "source": [
    "Чтобы избежать подобного нежелательного поведения, используйте метод `copy()` при связывании срезов с различными переменными:"
   ]
  },
  {
   "cell_type": "code",
   "execution_count": null,
   "metadata": {},
   "outputs": [],
   "source": [
    "numbers = np.arange(10)\n",
    "\n",
    "print(numbers, end=\"\\n\\n\")\n",
    "\n",
    "my_slice = numbers[5: 10].copy()\n",
    "my_slice[:] = 100\n",
    "\n",
    "print(my_slice, end=\"\\n\\n\")\n",
    "print(numbers, end=\"\\n\\n\")"
   ]
  },
  {
   "cell_type": "markdown",
   "metadata": {},
   "source": [
    "#### Индексация массивами\n",
    "\n",
    "Помимо срезов и простых индексов, вы можете за раз выбрать сразу несколько элементов, используя массивы в качестве индексов."
   ]
  },
  {
   "cell_type": "code",
   "execution_count": null,
   "metadata": {},
   "outputs": [],
   "source": [
    "data_1d = np.random.randint(0, 10, size=15)\n",
    "data_2d = data_1d.reshape(5, 3)\n",
    "\n",
    "print(f\"Data 1D:\\n{data_1d}\", end=\"\\n\\n\")\n",
    "print(f\"Data 2D:\\n{data_2d}\", end=\"\\n\\n\")\n",
    "\n",
    "indices_1d = [2, 7, 13, 8]\n",
    "indices_2d = [0, 1, 2], [0, 1, 2]\n",
    "\n",
    "print(f\"Index 1D:\\n{data_1d[indices_1d]}\", end=\"\\n\\n\")\n",
    "print(f\"Index 2D:\\n{data_2d[indices_2d]}\", end=\"\\n\\n\")"
   ]
  },
  {
   "cell_type": "markdown",
   "metadata": {},
   "source": [
    "Ну и разумеется через такую индексацию вы тоже имеете возможность перезаписывать элементы исходного массива.\n",
    "\n",
    "Более того, помимо простых индексов, вы можете индексировать массив булевыми масками, т.е. массивами, той же формы, что и исходный массив, но заполненными значениями `True` и `False`. Значение `True` будет означать использование элемента в данной позиции в результате применения маски, `False` - нет."
   ]
  },
  {
   "cell_type": "code",
   "execution_count": null,
   "metadata": {},
   "outputs": [],
   "source": [
    "mask_1d = np.random.randint(0, 2, size=data_1d.shape, dtype=bool)\n",
    "mask_2d = mask_1d.reshape(5, 3)\n",
    "\n",
    "print(f\"Mask 1D:\\n{mask_1d}\", end=\"\\n\\n\")\n",
    "print(f\"Mask 2D:\\n{mask_2d}\", end=\"\\n\\n\")\n",
    "\n",
    "print(f\"Masked 1D:\\n{data_1d[mask_1d]}\", end=\"\\n\\n\")\n",
    "print(f\"Masked 2D:\\n{data_2d[mask_2d]}\", end=\"\\n\\n\")"
   ]
  },
  {
   "cell_type": "markdown",
   "metadata": {},
   "source": [
    "### Изменение размеров массива\n",
    "\n",
    "Я ряде случаев бывает полезным изменить форму массива: буквально изменить размеры, или добавить новое измерение. В одном из следующих занятий мы поймем, зачем это нужно, а сейчас рассмотрим самые распространенные варианты для этих действий.\n",
    "\n",
    "**reshape:**\n",
    "\n",
    "Мы уже использовали этот метод в нескольких примерах выше. С его помощью можно получить новый массив заданной формы, элементами которого являются элементы исходного массива. Если заданный массив не может быть переведен в массив указанного размера, метод возбуждает исключение."
   ]
  },
  {
   "cell_type": "code",
   "execution_count": null,
   "metadata": {},
   "outputs": [],
   "source": [
    "numbers = np.arange(15)\n",
    "numbers_reshaped1 = numbers.reshape(5, 3)\n",
    "numbers_reshaped2 = numbers.reshape(3, 5)\n",
    "\n",
    "print(f\"numbers:\\n{numbers}\", end=\"\\n\\n\")\n",
    "print(f\"reshaped 1:\\n{numbers_reshaped1}\", end=\"\\n\\n\")\n",
    "print(f\"reshaped 1:\\n{numbers_reshaped2}\")"
   ]
  },
  {
   "cell_type": "code",
   "execution_count": null,
   "metadata": {},
   "outputs": [],
   "source": [
    "numbers.reshape(6, 2)"
   ]
  },
  {
   "cell_type": "markdown",
   "metadata": {},
   "source": [
    "Также с помощью этого метода можно \"вытянуть\" исходный многомерный массив в одномерный."
   ]
  },
  {
   "cell_type": "code",
   "execution_count": null,
   "metadata": {},
   "outputs": [],
   "source": [
    "print(numbers_reshaped1.reshape(-1))"
   ]
  },
  {
   "cell_type": "markdown",
   "metadata": {},
   "source": [
    "**flatten:**\n",
    "\n",
    "Результат метода аналогичен результату метода `reshape(-1)`."
   ]
  },
  {
   "cell_type": "code",
   "execution_count": null,
   "metadata": {},
   "outputs": [],
   "source": [
    "print(numbers_reshaped1.flatten())"
   ]
  },
  {
   "cell_type": "markdown",
   "metadata": {},
   "source": [
    "**transpose/T:**\n",
    "\n",
    "Функция `transpose` позволяет транспонировать входной массив по правилам линейной алгебры. Возвращает новый массив, который можно безопасно изменять.\n",
    "\n",
    "Атрибут массива `T`, когда это возможно, возвращает представление исходного массива, соответствующее транспонированию массива. Т.е. если связать возвращенное представление с новой переменной, то в вашей программе появится риск изменения исходных данных через эту переменную. Имейте это в виду и всегда думайте, что именно вы хотите получить: представление или копию."
   ]
  },
  {
   "cell_type": "code",
   "execution_count": null,
   "metadata": {},
   "outputs": [],
   "source": [
    "array = np.random.randint(0, 10, size=(3, 4))\n",
    "\n",
    "print(f\"array:\\n{array}\", end=\"\\n\\n\")\n",
    "print(f\"transpose:\\n{np.transpose(array)}\", end=\"\\n\\n\")\n",
    "print(f\"T:\\n{array.T}\")"
   ]
  },
  {
   "cell_type": "markdown",
   "metadata": {},
   "source": [
    "**newaxis:**\n",
    "\n",
    "Это специальная константа, которая позволяет удобно добавить новое измерения в ваш массив:"
   ]
  },
  {
   "cell_type": "code",
   "execution_count": null,
   "metadata": {},
   "outputs": [],
   "source": [
    "array = array.flatten()\n",
    "\n",
    "print(f\"array:\\n{array}\", end=\"\\n\\n\")\n",
    "print(f\"array horizontal:\\n{array[np.newaxis, :]}\", end=\"\\n\\n\")\n",
    "print(f\"array vertical:\\n{array[:, np.newaxis]}\", end=\"\\n\\n\")"
   ]
  },
  {
   "cell_type": "code",
   "execution_count": null,
   "metadata": {},
   "outputs": [],
   "source": []
  }
 ],
 "metadata": {
  "kernelspec": {
   "display_name": "venv",
   "language": "python",
   "name": "python3"
  },
  "language_info": {
   "codemirror_mode": {
    "name": "ipython",
    "version": 3
   },
   "file_extension": ".py",
   "mimetype": "text/x-python",
   "name": "python",
   "nbconvert_exporter": "python",
   "pygments_lexer": "ipython3",
   "version": "3.11.1"
  }
 },
 "nbformat": 4,
 "nbformat_minor": 2
}
