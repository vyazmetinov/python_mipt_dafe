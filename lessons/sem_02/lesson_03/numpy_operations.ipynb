{
 "cells": [
  {
   "cell_type": "markdown",
   "metadata": {},
   "source": [
    "# Операции над массивами NumPy\n",
    "\n",
    "**Контест**: [413](https://contest.yandex.ru/contest/75039/enter), [414](https://contest.yandex.ru/contest/75037/enter), [415, 416](https://contest.yandex.ru/contest/75040/enter)\n",
    "\n",
    "На прошлом занятии мы с вами начали знакомство с библиотекой NumPy и рассмотрели возможные способы создания массивов NumPy. Однако, очевидно, что работа с данными не ограничивается исключительно созданием массивов. На этом семинаре мы рассмотрим возможные формы взаимодействия с массивами NumPy и разберемся, как взаимодействовать с ними эффективно.\n",
    "\n",
    "**Импорт библиотек:**"
   ]
  },
  {
   "cell_type": "code",
   "execution_count": 1,
   "metadata": {},
   "outputs": [],
   "source": [
    "import numpy as np"
   ]
  },
  {
   "cell_type": "markdown",
   "metadata": {},
   "source": [
    "## Векторизованные операции\n",
    "\n",
    "На прошлом семинаре мы рассмотрели производительность Python при работе с массивами данных, и пришли к выводу о его медлительности, связанной с подходом к хранению данных. На самом деле проблема кроется не только в подходе к хранению данных, но и в издержках динамической типизации. Т.е. если мы просто изменим подход к хранению данных без изменения подхода к работе с ними, мы не увидим никакого качественного прироста в быстродействии программы. Мы можем переходить на NumPy, CuPy, PyTorch, на что угодно, но без изменения способа работы с данными, выигрыша в производительности мы не увидим.\n",
    "\n",
    "Чтобы понять это, давайте рассмотрим простой пример: реализуем функцию, которая для значения каждого элемент входного массива вычисляет обратное ему значение и возвращает новый массив вычисленных значений.\n",
    "\n",
    "**Необходимые импорты:**"
   ]
  },
  {
   "cell_type": "code",
   "execution_count": 2,
   "metadata": {},
   "outputs": [],
   "source": [
    "from typing import Sequence\n",
    "from numbers import Real"
   ]
  },
  {
   "cell_type": "markdown",
   "metadata": {},
   "source": [
    "**Функция:**"
   ]
  },
  {
   "cell_type": "code",
   "execution_count": 3,
   "metadata": {},
   "outputs": [],
   "source": [
    "def invert_array(array: Sequence[Real]) -> list[Real]:\n",
    "    inverted = [\n",
    "        1. / value if value != 0 else value\n",
    "        for value in array\n",
    "    ]\n",
    "\n",
    "    return inverted"
   ]
  },
  {
   "cell_type": "markdown",
   "metadata": {},
   "source": [
    "**Тесты:**"
   ]
  },
  {
   "cell_type": "code",
   "execution_count": 4,
   "metadata": {},
   "outputs": [],
   "source": [
    "array_size = int(1e7)\n",
    "\n",
    "array_numpy = np.random.uniform(-10, 10, size=array_size)\n",
    "array_python = array_numpy.tolist()"
   ]
  },
  {
   "cell_type": "code",
   "execution_count": null,
   "metadata": {},
   "outputs": [],
   "source": [
    "%timeit invert_array(array_python)\n",
    "%timeit invert_array(array_numpy)"
   ]
  },
  {
   "cell_type": "code",
   "execution_count": null,
   "metadata": {},
   "outputs": [],
   "source": [
    "del array_numpy\n",
    "del array_python"
   ]
  },
  {
   "cell_type": "markdown",
   "metadata": {},
   "source": [
    "Как мы видим, использование NumPy не просто не решило проблему, а даже замедлило скорость вычислений. Но почему? Как уже было сказано ранее, все дело в динамической типизации и, в частности, в том, как интерпретатор ее реализует. Дело в том, что из-за динамической природы Python интерпретатор имеет возможность определить типы данных конкретных объектов только в момент выполнения кода. Когда мы используем нативные конструкции, типа цикла `for`, для выполнения однотипных операций, в частности,  над однородными данными, помимо описанных вами операций интерпретатору также приходится выполнять проверки типов для каждого элемента однородных данных. Эти проверки не бесплатны, поэтому производительность кода при использовании нативных средств Python для реализации вычислений значительно снижается.\n",
    "\n",
    "Однако правильное использование NumPy позволяет обойти эти ограничения и воспользоваться фактом однородности данных в массивах для увеличения быстродействия вычислений. NumPy обладает рядом операций, позволяющих обходить ограничения Python, используя исключительно код на С, выходящий за рамки объектов Python. Эти операции отличаются быстродействием и позволяют значительно ускорить ваши вычисления. Такие операции называются **векторизованными операциями**.\n",
    "\n",
    "### Арифметические операции\n",
    "\n",
    "Все арифметические операции, с которыми вы работали в \"чистом\" Python, имеют место и в NumPy, и смысл их остается тем же, что и в обычной алгебре."
   ]
  },
  {
   "cell_type": "code",
   "execution_count": null,
   "metadata": {},
   "outputs": [],
   "source": [
    "numbers = np.arange(5)\n",
    "\n",
    "print(\n",
    "    f\"{numbers = }\",\n",
    "    f\"numbers + 2 = {numbers + 2};\",\n",
    "    f\"numbers - 2 = {numbers - 2};\",\n",
    "    f\"numbers * 2 = {numbers * 2};\",\n",
    "    f\"numbers / 2 = {numbers / 2};\",\n",
    "    f\"numbers % 2 = {numbers % 2};\",\n",
    "    f\"numbers // 2 = {numbers // 2};\",\n",
    "    f\"numbers ** 2 = {numbers ** 2};\",\n",
    "    sep=\"\\n\",\n",
    ")"
   ]
  },
  {
   "cell_type": "code",
   "execution_count": null,
   "metadata": {},
   "outputs": [],
   "source": [
    "numbers = np.arange(1, 10)\n",
    "\n",
    "print(\n",
    "    f\"array:\\n{numbers}\",\n",
    "    f\"array-number operation:\\n{numbers * 8}\",\n",
    "    f\"array-array operation:\\n{numbers - numbers[::-1]}\",\n",
    "    f\"2D-array operation:\\n{numbers.reshape(3, 3) ** 2}\",\n",
    "    sep=\"\\n\\n\",\n",
    ")"
   ]
  },
  {
   "cell_type": "markdown",
   "metadata": {},
   "source": [
    "Как вы видите, применение векторизованной операции к массиву NumPy аналогично поэлементному применению той же операции в цикле. Только в сравнении с векторизованными операциями, циклы будут работать гораздо медленее. Чтобы в этом убедиться, сравним результаты времени работы нашей функции `invert_array` с аналогичной векторизованной операцией."
   ]
  },
  {
   "cell_type": "code",
   "execution_count": null,
   "metadata": {},
   "outputs": [],
   "source": [
    "array = np.arange(1, 1 + int(1e6))"
   ]
  },
  {
   "cell_type": "code",
   "execution_count": null,
   "metadata": {},
   "outputs": [],
   "source": [
    "%timeit invert_array(array)\n",
    "%timeit (1. / array)"
   ]
  },
  {
   "cell_type": "code",
   "execution_count": null,
   "metadata": {},
   "outputs": [],
   "source": [
    "del array"
   ]
  },
  {
   "cell_type": "markdown",
   "metadata": {},
   "source": [
    "Как можно видеть, разница в быстродействии измеряется несколькими порядками. И чем больше будет размер массива, тем больше будет разница в затрачиваемом на его обработку времени со стороны Python и со стороны NumPy.\n",
    "\n",
    "Стоит отметить, что все операторные формы векторизованных операций представляют собой адаптеры векторизованных операций в функциональном виде. Приведем ниже таблицу соответствий:\n",
    "\n",
    "| Операторная форма | Функциональная форма | Описание |\n",
    "|--|--|--|\n",
    "| + | np.add | Сложение |\n",
    "| - | np.substract | Бинарный минус |\n",
    "| - | np.negative | Унарные минус (эквивалент * (-1)) |\n",
    "| * | np.multiply | Умножение |\n",
    "| / | np.divide | \"Честное\" деление |\n",
    "| % | np.mod | Вычисление остатка при делении |\n",
    "| // | np.floor_divide | Вычисление целой части при делении |\n",
    "| ** | np.power | Возведение в степень |\n",
    "\n",
    "На первый взгляд наличие векторизованных арифметический операций в функциональном виде кажется избыточным. Однако, не стоит спешить с выводами. Функциональная форма предоставляет вам ряд дополнительных возможностей, к число которых относится оптимизация вычислений по используемой памяти, а также превращение простой векторизованной операции в векторизованное агрегирование. Рассмотрим примеры."
   ]
  },
  {
   "cell_type": "code",
   "execution_count": null,
   "metadata": {},
   "outputs": [],
   "source": [
    "array1 = np.arange(5)\n",
    "array2 = np.random.randint(-10, 10, size=array1.shape)\n",
    "\n",
    "print(\n",
    "    f\"{array1 = }\", f\"{array2 = }\", sep=\"\\n\", end=\"\\n\\n\"\n",
    ")\n",
    "\n",
    "np.add(array1, array2, out=array2)\n",
    "\n",
    "print(\n",
    "    f\"{array1 = }\", f\"{array2 = }\", sep=\"\\n\",\n",
    ")"
   ]
  },
  {
   "cell_type": "markdown",
   "metadata": {},
   "source": [
    "Итак, в примере выше с помощью специального аргумента `out`, которым обладают все перечисленные в таблице функции, мы явно указали область памяти, в которую будут осуществлена запись результата операции. Это позволяет сэкономить память компьютера, особенно если вы намереваетесь обрабатывать действительно большие массивы данных. Экономия памяти происходит за счет того, что компьютер больше не выделяет дополнительную память для хранения промежуточных вычислений, а сразу записывает результат в указанный буфер. Ведь если бы пример выше был бы реализован более привычным образом:\n",
    "\n",
    "```python\n",
    "array2 = array1 + array2\n",
    "```\n",
    "\n",
    "То интерпретатор действовал бы следующим образом:\n",
    "1. Выделил бы область памяти, соответствующую размеру результирующего массива;\n",
    "2. Вычислил бы правую часть и записал бы результат в буфер;\n",
    "3. Перекопировал вычисленные значения из буфера в `array2`;\n",
    "\n",
    "При использовании `out` мы пропускаем шаги с созданием буфера и копированием, вместо этого запись результата происходит сразу в указанную область памяти.\n",
    "\n",
    "Помимо этого, функциональные версии векторизованных бинарных арифметических операций имеют возможность редуцирования данных. Например: "
   ]
  },
  {
   "cell_type": "code",
   "execution_count": null,
   "metadata": {},
   "outputs": [],
   "source": [
    "numbers = 2 ** (-np.arange(10, dtype=np.float32))\n",
    "print(numbers, end=\"\\n\\n\")\n",
    "\n",
    "print(\n",
    "    f\"sum reduce: {np.add.reduce(numbers)}\",\n",
    "    f\"sub reduce: {np.subtract.reduce(numbers)}\",\n",
    "    f\"multiply reduce: {np.multiply.reduce(numbers)}\",\n",
    "    f\"divide reduce: {np.divide.reduce(numbers)}\",\n",
    "    sep=\"\\n\",\n",
    ")"
   ]
  },
  {
   "cell_type": "markdown",
   "metadata": {},
   "source": [
    "В этом случае мы просто применяем указанную операцию к элементам массива до тех пор, пока в массиве не останется одного элемента. Также вы можете вычислять операции над элементами массива кумулятивно - каждый элемент результирующего массива - результат применения операции ко всем предшествующим ему элементам, а также к нему включительно. "
   ]
  },
  {
   "cell_type": "code",
   "execution_count": null,
   "metadata": {},
   "outputs": [],
   "source": [
    "print(\n",
    "    f\"sum accumulate:\\n{np.add.accumulate(numbers)}\",\n",
    "    f\"sub accumulate:\\n{np.subtract.accumulate(numbers)}\",\n",
    "    f\"multiply accumulate:\\n{np.multiply.accumulate(numbers)}\",\n",
    "    f\"divide accumulate:\\n{np.divide.accumulate(numbers)}\",\n",
    "    sep=\"\\n\\n\",\n",
    ")"
   ]
  },
  {
   "cell_type": "markdown",
   "metadata": {},
   "source": [
    "Однако у кумулятивных методов есть более удобные аналоги, которые мы рассмотрим позже.\n",
    "\n",
    "### Логические операции и булевы маски\n",
    "\n",
    "Вы также можете использовать логические операторы, в контексте массивов NumPy они будут иметь тот же смысл, что и в булевой алгебре. Результатом применения логической операции к массиву будет новый массив булевых значений, элементы которого - значения выполнения соответствующих операций."
   ]
  },
  {
   "cell_type": "code",
   "execution_count": null,
   "metadata": {},
   "outputs": [],
   "source": [
    "numbers = np.random.uniform(-5, 5, size=5)\n",
    "\n",
    "print(\n",
    "    f\"numbers: {numbers}\",\n",
    "    f\"numbers < 0 = {numbers < 0}\",\n",
    "    f\"numbers > 0 = {numbers > 0}\",\n",
    "    f\"numbers == 0 = {numbers == 0}\",\n",
    "    f\"numbers <= 0 = {numbers <= 0}\",\n",
    "    f\"numbers >= 0 = {numbers >= 0}\",\n",
    "    sep=\"\\n\",\n",
    ")"
   ]
  },
  {
   "cell_type": "markdown",
   "metadata": {},
   "source": [
    "На первый взгляд может показаться, что это совершенно бесполезные операции, однако это не так. Давайте рассмотрим пару примеров использования булевых массивов.\n",
    "\n",
    "Напомним, что булев тип данных - это дочерний класс типа данных \"целые числа\", а соответственно мы можем работать с булевыми значениями, как с целыми числами. Соответственно, с помощью булева массива мы можем, например, подсчитать количество элементов массива, которые удовлетворяют определенному условию:"
   ]
  },
  {
   "cell_type": "code",
   "execution_count": null,
   "metadata": {},
   "outputs": [],
   "source": [
    "print(\n",
    "    f\"negative values amount: {np.add.reduce(numbers < 0)}\"\n",
    ")"
   ]
  },
  {
   "cell_type": "markdown",
   "metadata": {},
   "source": [
    "Однако у булевых массивов есть и более важная функция. Из прошлого семинара мы помним, что массивы NumPy могут быть проиндексированы булевыми массивами. Соответственно, получаемые таким образом булевы массивы могут быть использованы в качестве так называемой булевой маски, чтобы отфильтровывать определенные элементы массива по заданному условию:"
   ]
  },
  {
   "cell_type": "code",
   "execution_count": null,
   "metadata": {},
   "outputs": [],
   "source": [
    "print(f\"negative values: {numbers[numbers < 0]}\")"
   ]
  },
  {
   "cell_type": "markdown",
   "metadata": {},
   "source": [
    "Более того, мы можем использовать сложные условия, комбинируя булевы маски с помощью операторов побитового `И` и побитового `ИЛИ`:"
   ]
  },
  {
   "cell_type": "code",
   "execution_count": null,
   "metadata": {},
   "outputs": [],
   "source": [
    "mask = (0 <= numbers) & (numbers < 3)\n",
    "print(f\"condition values: {numbers[mask]}\")"
   ]
  },
  {
   "cell_type": "markdown",
   "metadata": {},
   "source": [
    "Обращаем отдельное внимание на то, что комбинирование булевых масок осуществляется с помощью побитовых операций `&` и `|`, а не с помощью логических операций `and` и `or`. Также не забывайте использовать скобки для группировки условий.\n",
    "\n",
    "### Математические операции\n",
    "\n",
    "Помимо арифметических и логических функций, NumPy имеет достаточно богатую библиотеку арифметических функций: тригонометрических, обратных тригонометрических, гиперболических, обратных гиперболических, экспоненциальных, логарифмических и т.д. Вызовы этих функций очень похожи, поэтому следующая ячейка кода носит скорее демонстрационный характер. При необходимости использования конкретной функции, вы можете обратиться к документации:"
   ]
  },
  {
   "cell_type": "code",
   "execution_count": null,
   "metadata": {},
   "outputs": [],
   "source": [
    "abscissa = np.linspace(0, np.pi, 5)\n",
    "\n",
    "print(\n",
    "    f\"{abscissa = }\",\n",
    "    f\"triganometric:\\n{np.sin(abscissa)}\",\n",
    "    f\"inverse trigonometric:\\n{np.arctan(abscissa)}\",\n",
    "    f\"hyperbolic:\\n{np.cosh(abscissa)}\",\n",
    "    f\"inverse hyperbolic:\\n{np.sinh(abscissa)}\",\n",
    "    f\"exponential:\\n{np.exp(abscissa)}\",\n",
    "    f\"logarithmic:\\n{np.log2(abscissa[abscissa > 0])}\",\n",
    "    sep=\"\\n\\n\",\n",
    ")"
   ]
  },
  {
   "cell_type": "markdown",
   "metadata": {},
   "source": [
    "В примерах выше описано использование операций с одномерными массивами, однако стоит понимать, что данные функции также могут быть использованы и с массивами произвольной размерности.\n",
    "\n",
    "## Транслирование (Broadcasting)\n",
    "\n",
    "В одном из примеров выше мы видели, что аргументами векторизованных арифметических операций могут выступать два массива NumPy одинаковой размерности. Однако одна из ключевых особенностей NumPy заключается в том, что массивы не обязательно должны иметь одинаковые размеры. Проиллюстрируем это утверждение примером:"
   ]
  },
  {
   "cell_type": "code",
   "execution_count": null,
   "metadata": {},
   "outputs": [],
   "source": [
    "lhs = np.arange(9).reshape(3, 3)\n",
    "rhs = np.arange(3)\n",
    "\n",
    "print(\n",
    "    f\"lhs:\\n{lhs}\",\n",
    "    f\"rhs:\\n{rhs}\",\n",
    "    f\"sum:\\n{lhs + rhs}\",\n",
    "    sep=\"\\n\\n\",\n",
    ")"
   ]
  },
  {
   "cell_type": "markdown",
   "metadata": {},
   "source": [
    "Первое, что появляется в голове у неподготовленного человека, увидевшего нечто подобное - это вопрос: почему так? Почему этот кусок кода не возбудил ошибку, по типу `Несовместимые размеры массивов`? На самом деле размеры операндов совместимы, просто NumPy трактует совместимость размеров несколько шире банального равенства значений атрибутов `shape`. Проведение операций над массивами разных, но совместимых размеров называется транслированием (broadcasting). Однако это не значит, что мы можем использовать в качестве операндов одной операции массивы абсолютно любых форм, потому что механизм транслирования имеет свои ограничения и подчиняется следующим правилам:\n",
    "\n",
    "- Если размерности (`ndim`) двух массивов отличаются, форма (`shape`) массива с меньшей размерностью дополняется единицей с левой стороны:\n",
    "    ```concole\n",
    "    1. lhs.ndim != rhs.ndim\n",
    "    2. lhs.ndim > rhs.ndim\n",
    "    3. rhs.shape == (3, ) -> rhs.shape == (1, 3)\n",
    "       [0 1 2] -> [[0 1 2]]\n",
    "    ```\n",
    "- Если форма двух массивов не совпадает в каком-то измерении, массив с формой, равной 1 в этом измерении, растягивается вплоть до соответствия форме второго массива:\n",
    "    ```console\n",
    "    4. lhs.shape[0] != rhs.shape[0]\n",
    "    5. rhs.shape == (1, 3) -> rhs.shape == (3, 3)\n",
    "       [[0 1 2]] -> [[0 1 2]\n",
    "                     [0 1 2]\n",
    "                     [0 1 2]]\n",
    "    ```\n",
    "- Если в каком-то измерении размеры массивов различаются и ни одно значение измерения не равно 1, генерируется ошибка. В нашем примере этот случай не реализуется.\n",
    "\n",
    "Наглядно суть транслирования можно понять с помощью следующей иллюстрации:\n",
    "\n",
    "![broadcasting](./images/broadcasting.png)"
   ]
  },
  {
   "cell_type": "markdown",
   "metadata": {},
   "source": [
    "## Практика 1. Расстояния между точками прямой\n",
    "\n",
    "Дан некоторый набор точек $X$, расположенных на прямой: $X \\sub \\R$. Необходимо найти значения расстояний для каждой пары точек из данного множества $X$. Вычисленные расстояния необходимо представить в виде матрицы $D$ размером $N \\times N, N = |X|$, такой, что $D_{ij} = |x_i - x_j| \\forall x_i, x_j \\in X$.\n",
    "\n",
    "*Входные данные*:\n",
    "- `points` - np.ndarray, множество точек прямой, для которых необходимо вычислить попарные расстояния.\n",
    "\n",
    "*Выходные данные*:\n",
    "- двумерные массив типа np.ndarray - попарные расстояния между выходных точек. Значению элемента `result[i][j]` соответствует расстояние между точкой `points[i]` и точкой `points[j]`.\n",
    "\n",
    "**Решение**"
   ]
  },
  {
   "cell_type": "code",
   "execution_count": null,
   "metadata": {},
   "outputs": [],
   "source": [
    "def get_mutual_distances_vectorized(points: np.ndarray) -> np.ndarray:\n",
    "    # код преподавателя\n",
    "    return np.array([], dtype=points.dtype)"
   ]
  },
  {
   "cell_type": "markdown",
   "metadata": {},
   "source": [
    "**Тестирование**:"
   ]
  },
  {
   "cell_type": "code",
   "execution_count": 22,
   "metadata": {},
   "outputs": [],
   "source": [
    "points = np.arange(5)\n",
    "distances_expected = np.array(\n",
    "    [\n",
    "        [0, 1, 2, 3, 4],\n",
    "        [1, 0, 1, 2, 3],\n",
    "        [2, 1, 0, 1, 2],\n",
    "        [3, 2, 1, 0, 1],\n",
    "        [4, 3, 2, 1, 0],\n",
    "    ],\n",
    "    dtype=points.dtype,\n",
    ")\n",
    "\n",
    "distances = get_mutual_distances_vectorized(points)\n",
    "\n",
    "assert np.allclose(distances, distances_expected)"
   ]
  },
  {
   "cell_type": "markdown",
   "metadata": {},
   "source": [
    "## Практика 2. Полярные координаты: путешествие туда и обратно\n",
    "\n",
    "Необходимо реализовать две функции: функцию перевода координат из двухмерной прямоугольной декартовой системы координат в полярные координаты и функцию перевода из полярных координат в двухмерную прямоугольную декартову систему координат.\n",
    "\n",
    "### Перевод из декартовых координат в полярные\n",
    "\n",
    "*Входные данные*:\n",
    "- `abscissa` - np.ndarray, абсциссы точек;\n",
    "- `ordinates` - np.ndarray, ординаты точек;\n",
    "\n",
    "*Выходные данные*:\n",
    "- Кортеж (`tuple`) из двух элементов, каждый элемент - np.ndarray. Первый элемент `tuple` - массив расстояний, второй элемент `tuple` - массив углов в диапазоне от $[-\\pi, \\pi]$.\n",
    "\n",
    "*Сторонние эффекты*:\n",
    "- Если количество элементов во входных массивах `abscissa` и `ordinates` отличаются, необходимо возбудить исключение `ShapeMismatchError`.\n",
    "\n",
    "*Замечания*:\n",
    "- Гарантируется, что на вход подаются непустые одномерные массивы чисел с плавающей точкой.\n",
    "- Предполагаем, что для перевода в полярные координаты используются следующие формулы:\n",
    "    $$x = r*cos(\\phi); y = r*sin(\\phi)$$\n",
    "\n",
    "### Перевод из полярных координат в декартовы\n",
    "\n",
    "*Входные данные*:\n",
    "- `distances` - np.ndarray, массив расстояний;\n",
    "- `angles` - np.ndarray, массив углов в диапазоне $[-\\pi, \\pi]$;\n",
    "\n",
    "*Выходные данные*:\n",
    "- Кортеж (`tuple`) из двух элементов, каждый элемент - np.ndarray. Первый элемент `tuple` - массив абсцисс, второй элемент `tuple` - массив ординат.\n",
    "\n",
    "*Сторонние эффекты*:\n",
    "- Если количество элементов во входных массивов `distances` и `angles` отличаются, необходимо возбудить исключение `ShapeMismatchError`.\n",
    "\n",
    "**Решение**:"
   ]
  },
  {
   "cell_type": "code",
   "execution_count": 23,
   "metadata": {},
   "outputs": [],
   "source": [
    "class ShapeMismatchError(Exception):\n",
    "    pass"
   ]
  },
  {
   "cell_type": "code",
   "execution_count": null,
   "metadata": {},
   "outputs": [],
   "source": [
    "def convert_from_polar(\n",
    "    distances: np.ndarray,\n",
    "    angles: np.ndarray,\n",
    ") -> tuple[np.ndarray, np.ndarray]:\n",
    "    # код преподавателя\n",
    "\n",
    "    return distances, angles\n",
    "\n",
    "\n",
    "def convert_to_polar(\n",
    "    abscissa: np.ndarray,\n",
    "    ordinates: np.ndarray,\n",
    ") -> tuple[np.ndarray, np.ndarray]:\n",
    "    # код преподавателя\n",
    "\n",
    "    return abscissa, ordinates"
   ]
  },
  {
   "cell_type": "markdown",
   "metadata": {},
   "source": [
    "**Тестирование**:"
   ]
  },
  {
   "cell_type": "code",
   "execution_count": 29,
   "metadata": {},
   "outputs": [],
   "source": [
    "abscissa = np.array([1, 0, -1, 0], dtype=np.float64)\n",
    "ordinates = np.array([0, 1, 0, -1], dtype=abscissa.dtype)\n",
    "\n",
    "distances, angles = convert_to_polar(abscissa, ordinates)\n",
    "abscissa_conv, ordinates_conv = convert_from_polar(distances, angles)\n",
    "\n",
    "assert np.allclose(abscissa, abscissa_conv)\n",
    "assert np.allclose(ordinates, ordinates_conv)"
   ]
  },
  {
   "cell_type": "markdown",
   "metadata": {},
   "source": [
    "## Задача 1. Долой Python! Да здравствует NumPy!\n",
    "\n",
    "В этом задании вам будут предложены реализации некоторых функций на Python. Ваша задача - векторизовать код этих функций, используя NumPy.\n",
    "\n",
    "### Часть 1. Сложение массивов\n",
    "\n",
    "Векторизуйте код функции `sum_arrays_naive`.\n",
    "\n",
    "*Входные данные*:\n",
    "- `lhs` - одномерный массив чисел с плавающей точкой;\n",
    "- `rhs` - одномерный массив чисел с плавающей точкой;\n",
    "\n",
    "*Выходные данные*:\n",
    "- Одномерный массив, элементы которого - суммы соответствующих элементов входных массивов.\n",
    "\n",
    "*Сторонние эффекты*:\n",
    "- Если входные массивы `rhs` и `lhs` имеют разное число элементов, необходимо возбудить исключение `ShapeMismatchError`.\n",
    "\n",
    "**Python функция**:"
   ]
  },
  {
   "cell_type": "code",
   "execution_count": 30,
   "metadata": {},
   "outputs": [],
   "source": [
    "def sum_arrays_naive(\n",
    "    lhs: list[float],\n",
    "    rhs: list[float],\n",
    ") -> list[float]:\n",
    "    if len(lhs) != len(rhs):\n",
    "        raise ShapeMismatchError\n",
    "    \n",
    "    return [\n",
    "        elem_lhs + elem_rhs for elem_lhs, elem_rhs in zip(lhs, rhs)\n",
    "    ]"
   ]
  },
  {
   "cell_type": "markdown",
   "metadata": {},
   "source": [
    "**Векторизованный код**:"
   ]
  },
  {
   "cell_type": "code",
   "execution_count": 31,
   "metadata": {},
   "outputs": [],
   "source": [
    "def sum_arrays_vectorized(\n",
    "    lhs: np.ndarray,\n",
    "    rhs: np.ndarray,\n",
    ") -> np.ndarray:\n",
    "    # ваш код\n",
    "\n",
    "    return np.array([])"
   ]
  },
  {
   "cell_type": "markdown",
   "metadata": {},
   "source": [
    "### Часть 2. Полиномы\n",
    "\n",
    "Векторизуйте код функции `compute_poly_naive`.\n",
    "\n",
    "*Входные данные*:\n",
    "- `abscissa` - одномерный массив чисел с плавающей точкой - область определения для вычисления полинома;\n",
    "\n",
    "*Выходные данные*:\n",
    "- Одномерный массив, элементы которого - значения полинома $y = 3 x^2 + 2x + 1$.\n",
    "\n",
    "**Python функция**:"
   ]
  },
  {
   "cell_type": "code",
   "execution_count": 32,
   "metadata": {},
   "outputs": [],
   "source": [
    "def compute_poly_naive(abscissa: list[float]) -> list[float]:\n",
    "    return [3 * (x ** 2) + 2 * x + 1 for x in abscissa]"
   ]
  },
  {
   "cell_type": "markdown",
   "metadata": {},
   "source": [
    "**Векторизованный код**:"
   ]
  },
  {
   "cell_type": "code",
   "execution_count": 33,
   "metadata": {},
   "outputs": [],
   "source": [
    "def compute_poly_vectorized(abscissa: np.ndarray) -> np.ndarray:\n",
    "    # ваш код\n",
    "\n",
    "    return abscissa"
   ]
  },
  {
   "cell_type": "markdown",
   "metadata": {},
   "source": [
    "### Часть 3. Далеко ли, близко ли?\n",
    "\n",
    "Векторизуйте код функции `get_mutual_l2_distances_naive`.\n",
    "\n",
    "*Входные данные*:\n",
    "- `lhs` - двумерный массив чисел с плавающей точкой;\n",
    "- `rhs` - двумерный массив чисел с плавающей точкой;\n",
    "\n",
    "*Выходные данные*:\n",
    "- Двумерный массив. Элемент `[i][j]` двумерного массива соответствует евклидову расстоянию между `i`-ым вектором из массива `lhs` и `j`-ым вектором из массива `rhs`. Под векторами подразумеваем строки входных двумерных массивов.\n",
    "\n",
    "*Сторонние эффекты*:\n",
    "- Если входные массивы `rhs` и `lhs` имеют разное число колонок, необходимо возбудить исключение `ShapeMismatchError`.\n",
    "\n",
    "**Python функция**:"
   ]
  },
  {
   "cell_type": "code",
   "execution_count": 34,
   "metadata": {},
   "outputs": [],
   "source": [
    "def get_mutual_l2_distances_naive(\n",
    "    lhs: list[list[float]],\n",
    "    rhs: list[list[float]],\n",
    ") -> list[list[float]]:    \n",
    "    if len(lhs[0]) != len(rhs[0]):\n",
    "        raise ShapeMismatchError\n",
    "    \n",
    "    return [\n",
    "        [\n",
    "            sum(\n",
    "                (lhs[i][k] - rhs[j][k]) ** 2 for k in range(len(lhs[0]))\n",
    "            ) ** 0.5\n",
    "            for j in range(len(rhs))\n",
    "        ]\n",
    "        for i in range(len(lhs))\n",
    "    ]"
   ]
  },
  {
   "cell_type": "markdown",
   "metadata": {},
   "source": [
    "**Векторизованный код**:"
   ]
  },
  {
   "cell_type": "code",
   "execution_count": 35,
   "metadata": {},
   "outputs": [],
   "source": [
    "def get_mutual_l2_distances_vectorized(\n",
    "    lhs: np.ndarray,\n",
    "    rhs: np.ndarray,\n",
    ") -> np.ndarray:\n",
    "    # ваш код\n",
    "\n",
    "    return np.zeros(shape=(lhs.shape[0], rhs.shape[0]))"
   ]
  },
  {
   "cell_type": "markdown",
   "metadata": {},
   "source": [
    "## Задача 2. Сферические координаты: туда и обратно\n",
    "\n",
    "Необходимо реализовать две функции: функцию перевода координат из трехмерной прямоугольной декартовой системы координат в сферические координаты и функцию перевода из сферических координат в трехмерную прямоугольную сферическую систему координат.\n",
    "\n",
    "### Перевод из декартовых координат в сферические\n",
    "\n",
    "*Входные данные*:\n",
    "- `abscissa` - np.ndarray, абсциссы точек;\n",
    "- `ordinates` - np.ndarray, ординаты точек;\n",
    "- `applicates` - np.ndarray, аппликаты точек;\n",
    "\n",
    "*Выходные данные*:\n",
    "- Кортеж (`tuple`) из трех элементов, каждый элемент - np.ndarray. Первый элемент `tuple` - массив расстояний, второй элемент `tuple` - массив углов в диапазоне от $[-\\pi, \\pi]$ - углы азимута, третий элемент `tuple` - массив углов в диапазоне от $[-\\pi, \\pi]$ - углы места.\n",
    "\n",
    "*Сторонние эффекты*:\n",
    "- Если количество элементов во входных массивах `abscissa`, `ordinates` и `applicates` отличаются, необходимо возбудить исключение `ShapeMismatchError`.\n",
    "\n",
    "*Замечания*:\n",
    "- Гарантируется, что на вход подаются непустые одномерные массивы чисел с плавающей точкой.\n",
    "- Предполагаем, что для перевода в сферические координаты используются следующие формулы:\n",
    "    $$x = r*sin(\\theta)*cos(\\phi); y = r*sin(\\theta)*sin(\\phi);z = r*cos(\\theta)$$\n",
    "\n",
    "### Перевод из сферических координат в декартовы\n",
    "\n",
    "*Входные данные*:\n",
    "- `distances` - np.ndarray, массив расстояний;\n",
    "- `azimuth` - np.ndarray, массив углов азимута в диапазоне $[-\\pi, \\pi]$;\n",
    "- `inclination` - np.ndarray, массив углов места в диапазоне $[-\\pi, \\pi]$\n",
    "\n",
    "*Выходные данные*:\n",
    "- Кортеж (`tuple`) из трех элементов, каждый элемент - np.ndarray. Первый элемент `tuple` - массив абсцисс, второй элемент `tuple` - массив ординат, третий элемент `tuple` - массив аппликат.\n",
    "\n",
    "*Сторонние эффекты*:\n",
    "- Если количество элементов во входных массивов `distances`, `azimuth` и `inclination` отличаются, необходимо возбудить исключение `ShapeMismatchError`.\n",
    "\n",
    "**Решение**:"
   ]
  },
  {
   "cell_type": "code",
   "execution_count": 36,
   "metadata": {},
   "outputs": [],
   "source": [
    "def convert_from_sphere(\n",
    "    distances: np.ndarray,\n",
    "    azimuth: np.ndarray,\n",
    "    inclination: np.ndarray,\n",
    ") -> tuple[np.ndarray, np.ndarray, np.ndarray]:\n",
    "    # ваш код\n",
    "\n",
    "    return distances, azimuth, inclination\n",
    "\n",
    "\n",
    "def convert_to_sphere(\n",
    "    abscissa: np.ndarray,\n",
    "    ordinates: np.ndarray,\n",
    "    applicates: np.ndarray,\n",
    ") -> tuple[np.ndarray, np.ndarray, np.ndarray]:\n",
    "    # ваш код\n",
    "\n",
    "    return abscissa, ordinates, applicates"
   ]
  },
  {
   "cell_type": "markdown",
   "metadata": {},
   "source": [
    "## Задача 3. Низины и возвышенности\n",
    "\n",
    "На вход подается одномерный массив чисел с плавающей точкой - значения некоторой функции на определенном отрезке. Ваша задача - вычислить индексы элементов, соответствующие точкам экстремума данной функции.\n",
    "\n",
    "*Входные данные*:\n",
    "- `ordinates` - np.ndarray числе с плавающей точкой, значения некоторой функции на определенном отрезке;\n",
    "\n",
    "*Выходные данные*:\n",
    "- Кортеж (`tuple`) из двух элементов. Элементы кортежа - np.ndarray. Первый элемент - индексы точек минимум, второй элемент - индексы точек максимума;\n",
    "\n",
    "*Сторонние эффекты*:\n",
    "- Если в массиве `ordinates` содержится менее трех элементов, необходимо возбудить `ValueError`.\n",
    "\n",
    "*Замечение*:\n",
    "- Краевые точки не принимают участия в вычислениях. Т.е. элементы с индексами 0 и -1 не могут быть точками экстремума.\n",
    "\n",
    "**Решение**:"
   ]
  },
  {
   "cell_type": "code",
   "execution_count": null,
   "metadata": {},
   "outputs": [],
   "source": [
    "def get_extremum_indices(\n",
    "    ordinates: np.ndarray,\n",
    ") -> tuple[np.ndarray, np.ndarray]:\n",
    "    # ваш код\n",
    "\n",
    "    return ordinates, ordinates"
   ]
  },
  {
   "cell_type": "markdown",
   "metadata": {},
   "source": [
    "**Тестирование**:"
   ]
  },
  {
   "cell_type": "code",
   "execution_count": 39,
   "metadata": {},
   "outputs": [],
   "source": [
    "ordinates = np.sin(2 * np.linspace(0, 4 * np.pi, 1000))\n",
    "indices_min_expected = np.array([187, 437, 687, 937], dtype=np.int32)\n",
    "indices_max_expected = np.array([ 62, 312, 562, 812], dtype=np.int32)\n",
    "\n",
    "indices_min, indices_max = get_extremum_indices(ordinates)\n",
    "\n",
    "assert np.allclose(indices_min, indices_min_expected)\n",
    "assert np.allclose(indices_max, indices_max_expected)"
   ]
  },
  {
   "cell_type": "code",
   "execution_count": null,
   "metadata": {},
   "outputs": [],
   "source": []
  }
 ],
 "metadata": {
  "kernelspec": {
   "display_name": "venv",
   "language": "python",
   "name": "python3"
  },
  "language_info": {
   "codemirror_mode": {
    "name": "ipython",
    "version": 3
   },
   "file_extension": ".py",
   "mimetype": "text/x-python",
   "name": "python",
   "nbconvert_exporter": "python",
   "pygments_lexer": "ipython3",
   "version": "3.11.1"
  }
 },
 "nbformat": 4,
 "nbformat_minor": 2
}
